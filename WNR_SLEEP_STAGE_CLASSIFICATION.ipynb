{
  "nbformat": 4,
  "nbformat_minor": 0,
  "metadata": {
    "colab": {
      "provenance": [],
      "authorship_tag": "ABX9TyPzvdYgY4kJm7xDCBDDrc4q",
      "include_colab_link": true
    },
    "kernelspec": {
      "name": "python3",
      "display_name": "Python 3"
    },
    "language_info": {
      "name": "python"
    }
  },
  "cells": [
    {
      "cell_type": "markdown",
      "metadata": {
        "id": "view-in-github",
        "colab_type": "text"
      },
      "source": [
        "<a href=\"https://colab.research.google.com/github/FahmidaNourin/Machine_Learning/blob/main/WNR_SLEEP_STAGE_CLASSIFICATION.ipynb\" target=\"_parent\"><img src=\"https://colab.research.google.com/assets/colab-badge.svg\" alt=\"Open In Colab\"/></a>"
      ]
    },
    {
      "cell_type": "markdown",
      "source": [
        "#importing libraries"
      ],
      "metadata": {
        "id": "En9pht0J6Uv0"
      }
    },
    {
      "cell_type": "code",
      "execution_count": 1,
      "metadata": {
        "id": "8hS4ITx7LH7L"
      },
      "outputs": [],
      "source": [
        "import numpy as np\n",
        "import pandas as pd"
      ]
    },
    {
      "cell_type": "code",
      "source": [
        "import matplotlib.pyplot as plt\n",
        "from yellowbrick.classifier import ConfusionMatrix\n",
        "import matplotlib.dates as dates\n",
        "\n",
        "\n",
        "\n",
        "def Conf_Mat(X_,y_,attb,model,cls):\n",
        "\n",
        "\n",
        "  fig = plt.figure(figsize=(attb[\"Fig Height\"],attb[\"Fig weidth\"]))\n",
        "  ax = fig.add_subplot(111)\n",
        "\n",
        "  cm = ConfusionMatrix(model, classes=cls,fontsize=attb[\"Confusion Matrix Inner Fontsize\"],ax=ax)\n",
        "  cm.fit(X_train, y_train)\n",
        "  cm.score(X_, y_)\n",
        "      \n",
        "  cm.ax.set_xlabel(\"Predicted Class\", fontsize=attb[\"X Axis Fontsize\"],fontweight=\"bold\")\n",
        "  cm.ax.set_ylabel(\"True Class\", fontsize=attb[\"Y Axis Fontsize\"],fontweight=\"bold\")\n",
        "  cm.ax.xaxis.set_tick_params(labelsize=attb[\"X Label Fontsize\"])\n",
        "  cm.ax.yaxis.set_tick_params(labelsize=attb[\"Y Label Fontsize\"])\n",
        "  for label in ax.get_xticklabels():\n",
        "    label.set_fontweight(550)\n",
        "  for label in ax.get_yticklabels():\n",
        "    label.set_fontweight(550)\n",
        "  \n",
        "  plt.savefig(\"Testing_confusion_mat\"+str(model)+\".png\")\n",
        "  cm.show()\n",
        "  print(\"--------------------\")\n",
        "  print(\"--------------------\")\n",
        "     "
      ],
      "metadata": {
        "id": "n3cvNxqiMNWu"
      },
      "execution_count": 2,
      "outputs": []
    },
    {
      "cell_type": "markdown",
      "source": [
        "#reading dataset"
      ],
      "metadata": {
        "id": "d9Z7XhRk6oro"
      }
    },
    {
      "cell_type": "code",
      "source": [
        "df=pd.read_csv(\"https://raw.githubusercontent.com/RafsanJany-44/Machine-School/main/datasets/EEG_HMC_Wake_NREM_REM_3000.csv\")"
      ],
      "metadata": {
        "id": "DQHrve8aNnh_"
      },
      "execution_count": 3,
      "outputs": []
    },
    {
      "cell_type": "code",
      "source": [
        "target=\"Sleep Stage\"\n",
        "labels=[\"NREM\",\"REM\",\"WAKE\"]"
      ],
      "metadata": {
        "id": "3JwF1MwM_MDd"
      },
      "execution_count": 4,
      "outputs": []
    },
    {
      "cell_type": "markdown",
      "source": [
        "#rendering table "
      ],
      "metadata": {
        "id": "Un2huk2V63Ud"
      }
    },
    {
      "cell_type": "code",
      "source": [
        "df.head()"
      ],
      "metadata": {
        "colab": {
          "base_uri": "https://localhost:8080/",
          "height": 316
        },
        "id": "wMralwgXN9Iw",
        "outputId": "c43e1221-ce8e-43e3-9e06-9b3138791a76"
      },
      "execution_count": 5,
      "outputs": [
        {
          "output_type": "execute_result",
          "data": {
            "text/plain": [
              "  Sleep Stage  MeanP_Alpha_F4  MedianF_Alpha_F4  MeanF_Alpha_F4  \\\n",
              "0        Wake         0.00051           8.74146        18.48195   \n",
              "1        Wake         0.00040          10.24000        17.48293   \n",
              "2        Wake         0.00036           9.74049        17.98244   \n",
              "3        Wake         0.00035          10.11512        17.60780   \n",
              "4        Wake         0.00033           9.74049        17.60780   \n",
              "\n",
              "   Spectral Edge_Alpha_F4  PeakF_Alpha_F4  MeanP_Beta_F4  MedianF_Beta_F4  \\\n",
              "0                17.48293         8.24195        0.00071         19.73073   \n",
              "1                16.85854        10.61463        0.00051         17.23317   \n",
              "2                17.48293         8.74146        0.00047         17.60780   \n",
              "3                17.10829         9.61561        0.00047         17.35805   \n",
              "4                17.23317         8.11707        0.00043         17.23317   \n",
              "\n",
              "   MeanF_Beta_F4  Spectral Edge_Beta_F4  ...  MeanP_Delta_O2  \\\n",
              "0       29.84585               33.84195  ...         0.00724   \n",
              "1       26.34927               29.34634  ...         0.00723   \n",
              "2       25.47512               28.22244  ...         0.00230   \n",
              "3       26.47415               28.72195  ...         0.00091   \n",
              "4       25.84976               28.09756  ...         0.00175   \n",
              "\n",
              "   MedianF_Delta_O2  MeanF_Delta_O2  Spectral Edge_Delta_O2  PeakF_Delta_O2  \\\n",
              "0           0.74927         3.87122                 1.99805         0.87415   \n",
              "1           0.49951         3.74634                 1.24878         0.49951   \n",
              "2           0.62439         5.24488                 2.12293         0.62439   \n",
              "3           0.87415         6.61854                 3.12195         0.62439   \n",
              "4           0.49951         5.74439                 2.24780         0.49951   \n",
              "\n",
              "   MeanP_Gamma_O2  MedianF_Gamma_O2  MeanF_Gamma_O2  Spectral Edge_Gamma_O2  \\\n",
              "0        0.000210          35.21561        42.20878                49.95122   \n",
              "1        0.000095          34.34146        43.33268                49.95122   \n",
              "2        0.000074          34.59122        45.95512                49.95122   \n",
              "3        0.000082          32.46829        43.95707                49.95122   \n",
              "4        0.000077          33.59220        44.83122                49.95122   \n",
              "\n",
              "   PeakF_Gamma_O2  \n",
              "0        49.95122  \n",
              "1        49.95122  \n",
              "2        49.95122  \n",
              "3        49.95122  \n",
              "4        49.95122  \n",
              "\n",
              "[5 rows x 76 columns]"
            ],
            "text/html": [
              "\n",
              "  <div id=\"df-bafe4395-1d15-491d-9be6-79df8f02b383\">\n",
              "    <div class=\"colab-df-container\">\n",
              "      <div>\n",
              "<style scoped>\n",
              "    .dataframe tbody tr th:only-of-type {\n",
              "        vertical-align: middle;\n",
              "    }\n",
              "\n",
              "    .dataframe tbody tr th {\n",
              "        vertical-align: top;\n",
              "    }\n",
              "\n",
              "    .dataframe thead th {\n",
              "        text-align: right;\n",
              "    }\n",
              "</style>\n",
              "<table border=\"1\" class=\"dataframe\">\n",
              "  <thead>\n",
              "    <tr style=\"text-align: right;\">\n",
              "      <th></th>\n",
              "      <th>Sleep Stage</th>\n",
              "      <th>MeanP_Alpha_F4</th>\n",
              "      <th>MedianF_Alpha_F4</th>\n",
              "      <th>MeanF_Alpha_F4</th>\n",
              "      <th>Spectral Edge_Alpha_F4</th>\n",
              "      <th>PeakF_Alpha_F4</th>\n",
              "      <th>MeanP_Beta_F4</th>\n",
              "      <th>MedianF_Beta_F4</th>\n",
              "      <th>MeanF_Beta_F4</th>\n",
              "      <th>Spectral Edge_Beta_F4</th>\n",
              "      <th>...</th>\n",
              "      <th>MeanP_Delta_O2</th>\n",
              "      <th>MedianF_Delta_O2</th>\n",
              "      <th>MeanF_Delta_O2</th>\n",
              "      <th>Spectral Edge_Delta_O2</th>\n",
              "      <th>PeakF_Delta_O2</th>\n",
              "      <th>MeanP_Gamma_O2</th>\n",
              "      <th>MedianF_Gamma_O2</th>\n",
              "      <th>MeanF_Gamma_O2</th>\n",
              "      <th>Spectral Edge_Gamma_O2</th>\n",
              "      <th>PeakF_Gamma_O2</th>\n",
              "    </tr>\n",
              "  </thead>\n",
              "  <tbody>\n",
              "    <tr>\n",
              "      <th>0</th>\n",
              "      <td>Wake</td>\n",
              "      <td>0.00051</td>\n",
              "      <td>8.74146</td>\n",
              "      <td>18.48195</td>\n",
              "      <td>17.48293</td>\n",
              "      <td>8.24195</td>\n",
              "      <td>0.00071</td>\n",
              "      <td>19.73073</td>\n",
              "      <td>29.84585</td>\n",
              "      <td>33.84195</td>\n",
              "      <td>...</td>\n",
              "      <td>0.00724</td>\n",
              "      <td>0.74927</td>\n",
              "      <td>3.87122</td>\n",
              "      <td>1.99805</td>\n",
              "      <td>0.87415</td>\n",
              "      <td>0.000210</td>\n",
              "      <td>35.21561</td>\n",
              "      <td>42.20878</td>\n",
              "      <td>49.95122</td>\n",
              "      <td>49.95122</td>\n",
              "    </tr>\n",
              "    <tr>\n",
              "      <th>1</th>\n",
              "      <td>Wake</td>\n",
              "      <td>0.00040</td>\n",
              "      <td>10.24000</td>\n",
              "      <td>17.48293</td>\n",
              "      <td>16.85854</td>\n",
              "      <td>10.61463</td>\n",
              "      <td>0.00051</td>\n",
              "      <td>17.23317</td>\n",
              "      <td>26.34927</td>\n",
              "      <td>29.34634</td>\n",
              "      <td>...</td>\n",
              "      <td>0.00723</td>\n",
              "      <td>0.49951</td>\n",
              "      <td>3.74634</td>\n",
              "      <td>1.24878</td>\n",
              "      <td>0.49951</td>\n",
              "      <td>0.000095</td>\n",
              "      <td>34.34146</td>\n",
              "      <td>43.33268</td>\n",
              "      <td>49.95122</td>\n",
              "      <td>49.95122</td>\n",
              "    </tr>\n",
              "    <tr>\n",
              "      <th>2</th>\n",
              "      <td>Wake</td>\n",
              "      <td>0.00036</td>\n",
              "      <td>9.74049</td>\n",
              "      <td>17.98244</td>\n",
              "      <td>17.48293</td>\n",
              "      <td>8.74146</td>\n",
              "      <td>0.00047</td>\n",
              "      <td>17.60780</td>\n",
              "      <td>25.47512</td>\n",
              "      <td>28.22244</td>\n",
              "      <td>...</td>\n",
              "      <td>0.00230</td>\n",
              "      <td>0.62439</td>\n",
              "      <td>5.24488</td>\n",
              "      <td>2.12293</td>\n",
              "      <td>0.62439</td>\n",
              "      <td>0.000074</td>\n",
              "      <td>34.59122</td>\n",
              "      <td>45.95512</td>\n",
              "      <td>49.95122</td>\n",
              "      <td>49.95122</td>\n",
              "    </tr>\n",
              "    <tr>\n",
              "      <th>3</th>\n",
              "      <td>Wake</td>\n",
              "      <td>0.00035</td>\n",
              "      <td>10.11512</td>\n",
              "      <td>17.60780</td>\n",
              "      <td>17.10829</td>\n",
              "      <td>9.61561</td>\n",
              "      <td>0.00047</td>\n",
              "      <td>17.35805</td>\n",
              "      <td>26.47415</td>\n",
              "      <td>28.72195</td>\n",
              "      <td>...</td>\n",
              "      <td>0.00091</td>\n",
              "      <td>0.87415</td>\n",
              "      <td>6.61854</td>\n",
              "      <td>3.12195</td>\n",
              "      <td>0.62439</td>\n",
              "      <td>0.000082</td>\n",
              "      <td>32.46829</td>\n",
              "      <td>43.95707</td>\n",
              "      <td>49.95122</td>\n",
              "      <td>49.95122</td>\n",
              "    </tr>\n",
              "    <tr>\n",
              "      <th>4</th>\n",
              "      <td>Wake</td>\n",
              "      <td>0.00033</td>\n",
              "      <td>9.74049</td>\n",
              "      <td>17.60780</td>\n",
              "      <td>17.23317</td>\n",
              "      <td>8.11707</td>\n",
              "      <td>0.00043</td>\n",
              "      <td>17.23317</td>\n",
              "      <td>25.84976</td>\n",
              "      <td>28.09756</td>\n",
              "      <td>...</td>\n",
              "      <td>0.00175</td>\n",
              "      <td>0.49951</td>\n",
              "      <td>5.74439</td>\n",
              "      <td>2.24780</td>\n",
              "      <td>0.49951</td>\n",
              "      <td>0.000077</td>\n",
              "      <td>33.59220</td>\n",
              "      <td>44.83122</td>\n",
              "      <td>49.95122</td>\n",
              "      <td>49.95122</td>\n",
              "    </tr>\n",
              "  </tbody>\n",
              "</table>\n",
              "<p>5 rows × 76 columns</p>\n",
              "</div>\n",
              "      <button class=\"colab-df-convert\" onclick=\"convertToInteractive('df-bafe4395-1d15-491d-9be6-79df8f02b383')\"\n",
              "              title=\"Convert this dataframe to an interactive table.\"\n",
              "              style=\"display:none;\">\n",
              "        \n",
              "  <svg xmlns=\"http://www.w3.org/2000/svg\" height=\"24px\"viewBox=\"0 0 24 24\"\n",
              "       width=\"24px\">\n",
              "    <path d=\"M0 0h24v24H0V0z\" fill=\"none\"/>\n",
              "    <path d=\"M18.56 5.44l.94 2.06.94-2.06 2.06-.94-2.06-.94-.94-2.06-.94 2.06-2.06.94zm-11 1L8.5 8.5l.94-2.06 2.06-.94-2.06-.94L8.5 2.5l-.94 2.06-2.06.94zm10 10l.94 2.06.94-2.06 2.06-.94-2.06-.94-.94-2.06-.94 2.06-2.06.94z\"/><path d=\"M17.41 7.96l-1.37-1.37c-.4-.4-.92-.59-1.43-.59-.52 0-1.04.2-1.43.59L10.3 9.45l-7.72 7.72c-.78.78-.78 2.05 0 2.83L4 21.41c.39.39.9.59 1.41.59.51 0 1.02-.2 1.41-.59l7.78-7.78 2.81-2.81c.8-.78.8-2.07 0-2.86zM5.41 20L4 18.59l7.72-7.72 1.47 1.35L5.41 20z\"/>\n",
              "  </svg>\n",
              "      </button>\n",
              "      \n",
              "  <style>\n",
              "    .colab-df-container {\n",
              "      display:flex;\n",
              "      flex-wrap:wrap;\n",
              "      gap: 12px;\n",
              "    }\n",
              "\n",
              "    .colab-df-convert {\n",
              "      background-color: #E8F0FE;\n",
              "      border: none;\n",
              "      border-radius: 50%;\n",
              "      cursor: pointer;\n",
              "      display: none;\n",
              "      fill: #1967D2;\n",
              "      height: 32px;\n",
              "      padding: 0 0 0 0;\n",
              "      width: 32px;\n",
              "    }\n",
              "\n",
              "    .colab-df-convert:hover {\n",
              "      background-color: #E2EBFA;\n",
              "      box-shadow: 0px 1px 2px rgba(60, 64, 67, 0.3), 0px 1px 3px 1px rgba(60, 64, 67, 0.15);\n",
              "      fill: #174EA6;\n",
              "    }\n",
              "\n",
              "    [theme=dark] .colab-df-convert {\n",
              "      background-color: #3B4455;\n",
              "      fill: #D2E3FC;\n",
              "    }\n",
              "\n",
              "    [theme=dark] .colab-df-convert:hover {\n",
              "      background-color: #434B5C;\n",
              "      box-shadow: 0px 1px 3px 1px rgba(0, 0, 0, 0.15);\n",
              "      filter: drop-shadow(0px 1px 2px rgba(0, 0, 0, 0.3));\n",
              "      fill: #FFFFFF;\n",
              "    }\n",
              "  </style>\n",
              "\n",
              "      <script>\n",
              "        const buttonEl =\n",
              "          document.querySelector('#df-bafe4395-1d15-491d-9be6-79df8f02b383 button.colab-df-convert');\n",
              "        buttonEl.style.display =\n",
              "          google.colab.kernel.accessAllowed ? 'block' : 'none';\n",
              "\n",
              "        async function convertToInteractive(key) {\n",
              "          const element = document.querySelector('#df-bafe4395-1d15-491d-9be6-79df8f02b383');\n",
              "          const dataTable =\n",
              "            await google.colab.kernel.invokeFunction('convertToInteractive',\n",
              "                                                     [key], {});\n",
              "          if (!dataTable) return;\n",
              "\n",
              "          const docLinkHtml = 'Like what you see? Visit the ' +\n",
              "            '<a target=\"_blank\" href=https://colab.research.google.com/notebooks/data_table.ipynb>data table notebook</a>'\n",
              "            + ' to learn more about interactive tables.';\n",
              "          element.innerHTML = '';\n",
              "          dataTable['output_type'] = 'display_data';\n",
              "          await google.colab.output.renderOutput(dataTable, element);\n",
              "          const docLink = document.createElement('div');\n",
              "          docLink.innerHTML = docLinkHtml;\n",
              "          element.appendChild(docLink);\n",
              "        }\n",
              "      </script>\n",
              "    </div>\n",
              "  </div>\n",
              "  "
            ]
          },
          "metadata": {},
          "execution_count": 5
        }
      ]
    },
    {
      "cell_type": "markdown",
      "source": [
        "checking shape"
      ],
      "metadata": {
        "id": "N5Fzq7yT7J4J"
      }
    },
    {
      "cell_type": "code",
      "source": [
        "df.shape"
      ],
      "metadata": {
        "colab": {
          "base_uri": "https://localhost:8080/"
        },
        "id": "iwHv9sr7OC0P",
        "outputId": "5159ebfc-d1a7-4b96-ff0a-8fa63b11c418"
      },
      "execution_count": 6,
      "outputs": [
        {
          "output_type": "execute_result",
          "data": {
            "text/plain": [
              "(3000, 76)"
            ]
          },
          "metadata": {},
          "execution_count": 6
        }
      ]
    },
    {
      "cell_type": "markdown",
      "source": [
        "checking columns"
      ],
      "metadata": {
        "id": "qNyYXIcT7P2d"
      }
    },
    {
      "cell_type": "code",
      "source": [
        "df.columns"
      ],
      "metadata": {
        "id": "92fBi92yOJZi",
        "outputId": "3713e172-1bff-4461-f559-fcdef18fe65e",
        "colab": {
          "base_uri": "https://localhost:8080/"
        }
      },
      "execution_count": 7,
      "outputs": [
        {
          "output_type": "execute_result",
          "data": {
            "text/plain": [
              "Index(['Sleep Stage', 'MeanP_Alpha_F4', 'MedianF_Alpha_F4', 'MeanF_Alpha_F4',\n",
              "       'Spectral Edge_Alpha_F4', 'PeakF_Alpha_F4', 'MeanP_Beta_F4',\n",
              "       'MedianF_Beta_F4', 'MeanF_Beta_F4', 'Spectral Edge_Beta_F4',\n",
              "       'PeakF_Beta_F4', 'MeanP_Theta_F4', 'MedianF_Theta_F4', 'MeanF_Theta_F4',\n",
              "       'Spectral Edge_Theta_F4', 'PeakF_Theta_F4', 'MeanP_Delta_F4',\n",
              "       'MedianF_Delta_F4', 'MeanF_Delta_F4', 'Spectral Edge_Delta_F4',\n",
              "       'PeakF_Delta_F4', 'MeanP_Gamma_F4', 'MedianF_Gamma_F4',\n",
              "       'MeanF_Gamma_F4', 'Spectral Edge_Gamma_F4', 'PeakF_Gamma_F4',\n",
              "       'MeanP_Alpha_C4', 'MedianF_Alpha_C4', 'MeanF_Alpha_C4',\n",
              "       'Spectral Edge_Alpha_C4', 'PeakF_Alpha_C4', 'MeanP_Beta_C4',\n",
              "       'MedianF_Beta_C4', 'MeanF_Beta_C4', 'Spectral Edge_Beta_C4',\n",
              "       'PeakF_Beta_C4', 'MeanP_Theta_C4', 'MedianF_Theta_C4', 'MeanF_Theta_C4',\n",
              "       'Spectral Edge_Theta_C4', 'PeakF_Theta_C4', 'MeanP_Delta_C4',\n",
              "       'MedianF_Delta_C4', 'MeanF_Delta_C4', 'Spectral Edge_Delta_C4',\n",
              "       'PeakF_Delta_C4', 'MeanP_Gamma_C4', 'MedianF_Gamma_C4',\n",
              "       'MeanF_Gamma_C4', 'Spectral Edge_Gamma_C4', 'PeakF_Gamma_C4',\n",
              "       'MeanP_Alpha_O2', 'MedianF_Alpha_O2', 'MeanF_Alpha_O2',\n",
              "       'Spectral Edge_Alpha_O2', 'PeakF_Alpha_O2', 'MeanP_Beta_O2',\n",
              "       'MedianF_Beta_O2', 'MeanF_Beta_O2', 'Spectral Edge_Beta_O2',\n",
              "       'PeakF_Beta_O2', 'MeanP_Theta_O2', 'MedianF_Theta_O2', 'MeanF_Theta_O2',\n",
              "       'Spectral Edge_Theta_O2', 'PeakF_Theta_O2', 'MeanP_Delta_O2',\n",
              "       'MedianF_Delta_O2', 'MeanF_Delta_O2', 'Spectral Edge_Delta_O2',\n",
              "       'PeakF_Delta_O2', 'MeanP_Gamma_O2', 'MedianF_Gamma_O2',\n",
              "       'MeanF_Gamma_O2', 'Spectral Edge_Gamma_O2', 'PeakF_Gamma_O2'],\n",
              "      dtype='object')"
            ]
          },
          "metadata": {},
          "execution_count": 7
        }
      ]
    },
    {
      "cell_type": "markdown",
      "source": [
        "#checking information"
      ],
      "metadata": {
        "id": "kzlGqjiL7WUb"
      }
    },
    {
      "cell_type": "code",
      "source": [
        "df.info()"
      ],
      "metadata": {
        "colab": {
          "base_uri": "https://localhost:8080/"
        },
        "id": "tuxmEn0pt61Q",
        "outputId": "a60569cf-9b47-4368-9297-084a3007d274"
      },
      "execution_count": 8,
      "outputs": [
        {
          "output_type": "stream",
          "name": "stdout",
          "text": [
            "<class 'pandas.core.frame.DataFrame'>\n",
            "RangeIndex: 3000 entries, 0 to 2999\n",
            "Data columns (total 76 columns):\n",
            " #   Column                  Non-Null Count  Dtype  \n",
            "---  ------                  --------------  -----  \n",
            " 0   Sleep Stage             3000 non-null   object \n",
            " 1   MeanP_Alpha_F4          3000 non-null   float64\n",
            " 2   MedianF_Alpha_F4        3000 non-null   float64\n",
            " 3   MeanF_Alpha_F4          3000 non-null   float64\n",
            " 4   Spectral Edge_Alpha_F4  3000 non-null   float64\n",
            " 5   PeakF_Alpha_F4          3000 non-null   float64\n",
            " 6   MeanP_Beta_F4           3000 non-null   float64\n",
            " 7   MedianF_Beta_F4         3000 non-null   float64\n",
            " 8   MeanF_Beta_F4           3000 non-null   float64\n",
            " 9   Spectral Edge_Beta_F4   3000 non-null   float64\n",
            " 10  PeakF_Beta_F4           3000 non-null   float64\n",
            " 11  MeanP_Theta_F4          3000 non-null   float64\n",
            " 12  MedianF_Theta_F4        3000 non-null   float64\n",
            " 13  MeanF_Theta_F4          3000 non-null   float64\n",
            " 14  Spectral Edge_Theta_F4  3000 non-null   float64\n",
            " 15  PeakF_Theta_F4          3000 non-null   float64\n",
            " 16  MeanP_Delta_F4          3000 non-null   float64\n",
            " 17  MedianF_Delta_F4        3000 non-null   float64\n",
            " 18  MeanF_Delta_F4          3000 non-null   float64\n",
            " 19  Spectral Edge_Delta_F4  3000 non-null   float64\n",
            " 20  PeakF_Delta_F4          3000 non-null   float64\n",
            " 21  MeanP_Gamma_F4          3000 non-null   float64\n",
            " 22  MedianF_Gamma_F4        3000 non-null   float64\n",
            " 23  MeanF_Gamma_F4          3000 non-null   float64\n",
            " 24  Spectral Edge_Gamma_F4  3000 non-null   float64\n",
            " 25  PeakF_Gamma_F4          3000 non-null   float64\n",
            " 26  MeanP_Alpha_C4          3000 non-null   float64\n",
            " 27  MedianF_Alpha_C4        3000 non-null   float64\n",
            " 28  MeanF_Alpha_C4          3000 non-null   float64\n",
            " 29  Spectral Edge_Alpha_C4  3000 non-null   float64\n",
            " 30  PeakF_Alpha_C4          3000 non-null   float64\n",
            " 31  MeanP_Beta_C4           3000 non-null   float64\n",
            " 32  MedianF_Beta_C4         3000 non-null   float64\n",
            " 33  MeanF_Beta_C4           3000 non-null   float64\n",
            " 34  Spectral Edge_Beta_C4   3000 non-null   float64\n",
            " 35  PeakF_Beta_C4           3000 non-null   float64\n",
            " 36  MeanP_Theta_C4          3000 non-null   float64\n",
            " 37  MedianF_Theta_C4        3000 non-null   float64\n",
            " 38  MeanF_Theta_C4          3000 non-null   float64\n",
            " 39  Spectral Edge_Theta_C4  3000 non-null   float64\n",
            " 40  PeakF_Theta_C4          3000 non-null   float64\n",
            " 41  MeanP_Delta_C4          3000 non-null   float64\n",
            " 42  MedianF_Delta_C4        3000 non-null   float64\n",
            " 43  MeanF_Delta_C4          3000 non-null   float64\n",
            " 44  Spectral Edge_Delta_C4  3000 non-null   float64\n",
            " 45  PeakF_Delta_C4          3000 non-null   float64\n",
            " 46  MeanP_Gamma_C4          3000 non-null   float64\n",
            " 47  MedianF_Gamma_C4        3000 non-null   float64\n",
            " 48  MeanF_Gamma_C4          3000 non-null   float64\n",
            " 49  Spectral Edge_Gamma_C4  3000 non-null   float64\n",
            " 50  PeakF_Gamma_C4          3000 non-null   float64\n",
            " 51  MeanP_Alpha_O2          3000 non-null   float64\n",
            " 52  MedianF_Alpha_O2        3000 non-null   float64\n",
            " 53  MeanF_Alpha_O2          3000 non-null   float64\n",
            " 54  Spectral Edge_Alpha_O2  3000 non-null   float64\n",
            " 55  PeakF_Alpha_O2          3000 non-null   float64\n",
            " 56  MeanP_Beta_O2           3000 non-null   float64\n",
            " 57  MedianF_Beta_O2         3000 non-null   float64\n",
            " 58  MeanF_Beta_O2           3000 non-null   float64\n",
            " 59  Spectral Edge_Beta_O2   3000 non-null   float64\n",
            " 60  PeakF_Beta_O2           3000 non-null   float64\n",
            " 61  MeanP_Theta_O2          3000 non-null   float64\n",
            " 62  MedianF_Theta_O2        3000 non-null   float64\n",
            " 63  MeanF_Theta_O2          3000 non-null   float64\n",
            " 64  Spectral Edge_Theta_O2  3000 non-null   float64\n",
            " 65  PeakF_Theta_O2          3000 non-null   float64\n",
            " 66  MeanP_Delta_O2          3000 non-null   float64\n",
            " 67  MedianF_Delta_O2        3000 non-null   float64\n",
            " 68  MeanF_Delta_O2          3000 non-null   float64\n",
            " 69  Spectral Edge_Delta_O2  3000 non-null   float64\n",
            " 70  PeakF_Delta_O2          3000 non-null   float64\n",
            " 71  MeanP_Gamma_O2          3000 non-null   float64\n",
            " 72  MedianF_Gamma_O2        3000 non-null   float64\n",
            " 73  MeanF_Gamma_O2          3000 non-null   float64\n",
            " 74  Spectral Edge_Gamma_O2  3000 non-null   float64\n",
            " 75  PeakF_Gamma_O2          3000 non-null   float64\n",
            "dtypes: float64(75), object(1)\n",
            "memory usage: 1.7+ MB\n"
          ]
        }
      ]
    },
    {
      "cell_type": "markdown",
      "source": [
        "#counting value"
      ],
      "metadata": {
        "id": "mwj4SqAf7zgs"
      }
    },
    {
      "cell_type": "code",
      "source": [
        "df[\"Sleep Stage\"].value_counts()"
      ],
      "metadata": {
        "colab": {
          "base_uri": "https://localhost:8080/"
        },
        "id": "vB4E0jIRylAd",
        "outputId": "5fa7425e-b046-491f-d550-fb27f3d8e976"
      },
      "execution_count": 9,
      "outputs": [
        {
          "output_type": "execute_result",
          "data": {
            "text/plain": [
              "NREM    1798\n",
              "Wake     629\n",
              "REM      573\n",
              "Name: Sleep Stage, dtype: int64"
            ]
          },
          "metadata": {},
          "execution_count": 9
        }
      ]
    },
    {
      "cell_type": "markdown",
      "source": [
        "#label Encoding"
      ],
      "metadata": {
        "id": "V01c3cVC73oi"
      }
    },
    {
      "cell_type": "code",
      "source": [
        "from sklearn.preprocessing import LabelEncoder\n",
        "encd = LabelEncoder()"
      ],
      "metadata": {
        "id": "fyoRoEC2y9YN"
      },
      "execution_count": 10,
      "outputs": []
    },
    {
      "cell_type": "code",
      "source": [
        "df[\"Sleep Stage\"] = encd.fit_transform(df[\"Sleep Stage\"])"
      ],
      "metadata": {
        "id": "4LWtJQR6zJBh"
      },
      "execution_count": 11,
      "outputs": []
    },
    {
      "cell_type": "code",
      "source": [
        "df[\"Sleep Stage\"].value_counts()"
      ],
      "metadata": {
        "colab": {
          "base_uri": "https://localhost:8080/"
        },
        "id": "AT7dYWsPzXUR",
        "outputId": "f9fc1711-14bd-42c3-f364-9cfa4652a993"
      },
      "execution_count": 12,
      "outputs": [
        {
          "output_type": "execute_result",
          "data": {
            "text/plain": [
              "0    1798\n",
              "2     629\n",
              "1     573\n",
              "Name: Sleep Stage, dtype: int64"
            ]
          },
          "metadata": {},
          "execution_count": 12
        }
      ]
    },
    {
      "cell_type": "code",
      "source": [
        "df.info()"
      ],
      "metadata": {
        "colab": {
          "base_uri": "https://localhost:8080/"
        },
        "id": "BEY9Q5vD0XFu",
        "outputId": "3d9dc52f-af59-4d42-fd6f-a2d7ffeb1cad"
      },
      "execution_count": 13,
      "outputs": [
        {
          "output_type": "stream",
          "name": "stdout",
          "text": [
            "<class 'pandas.core.frame.DataFrame'>\n",
            "RangeIndex: 3000 entries, 0 to 2999\n",
            "Data columns (total 76 columns):\n",
            " #   Column                  Non-Null Count  Dtype  \n",
            "---  ------                  --------------  -----  \n",
            " 0   Sleep Stage             3000 non-null   int64  \n",
            " 1   MeanP_Alpha_F4          3000 non-null   float64\n",
            " 2   MedianF_Alpha_F4        3000 non-null   float64\n",
            " 3   MeanF_Alpha_F4          3000 non-null   float64\n",
            " 4   Spectral Edge_Alpha_F4  3000 non-null   float64\n",
            " 5   PeakF_Alpha_F4          3000 non-null   float64\n",
            " 6   MeanP_Beta_F4           3000 non-null   float64\n",
            " 7   MedianF_Beta_F4         3000 non-null   float64\n",
            " 8   MeanF_Beta_F4           3000 non-null   float64\n",
            " 9   Spectral Edge_Beta_F4   3000 non-null   float64\n",
            " 10  PeakF_Beta_F4           3000 non-null   float64\n",
            " 11  MeanP_Theta_F4          3000 non-null   float64\n",
            " 12  MedianF_Theta_F4        3000 non-null   float64\n",
            " 13  MeanF_Theta_F4          3000 non-null   float64\n",
            " 14  Spectral Edge_Theta_F4  3000 non-null   float64\n",
            " 15  PeakF_Theta_F4          3000 non-null   float64\n",
            " 16  MeanP_Delta_F4          3000 non-null   float64\n",
            " 17  MedianF_Delta_F4        3000 non-null   float64\n",
            " 18  MeanF_Delta_F4          3000 non-null   float64\n",
            " 19  Spectral Edge_Delta_F4  3000 non-null   float64\n",
            " 20  PeakF_Delta_F4          3000 non-null   float64\n",
            " 21  MeanP_Gamma_F4          3000 non-null   float64\n",
            " 22  MedianF_Gamma_F4        3000 non-null   float64\n",
            " 23  MeanF_Gamma_F4          3000 non-null   float64\n",
            " 24  Spectral Edge_Gamma_F4  3000 non-null   float64\n",
            " 25  PeakF_Gamma_F4          3000 non-null   float64\n",
            " 26  MeanP_Alpha_C4          3000 non-null   float64\n",
            " 27  MedianF_Alpha_C4        3000 non-null   float64\n",
            " 28  MeanF_Alpha_C4          3000 non-null   float64\n",
            " 29  Spectral Edge_Alpha_C4  3000 non-null   float64\n",
            " 30  PeakF_Alpha_C4          3000 non-null   float64\n",
            " 31  MeanP_Beta_C4           3000 non-null   float64\n",
            " 32  MedianF_Beta_C4         3000 non-null   float64\n",
            " 33  MeanF_Beta_C4           3000 non-null   float64\n",
            " 34  Spectral Edge_Beta_C4   3000 non-null   float64\n",
            " 35  PeakF_Beta_C4           3000 non-null   float64\n",
            " 36  MeanP_Theta_C4          3000 non-null   float64\n",
            " 37  MedianF_Theta_C4        3000 non-null   float64\n",
            " 38  MeanF_Theta_C4          3000 non-null   float64\n",
            " 39  Spectral Edge_Theta_C4  3000 non-null   float64\n",
            " 40  PeakF_Theta_C4          3000 non-null   float64\n",
            " 41  MeanP_Delta_C4          3000 non-null   float64\n",
            " 42  MedianF_Delta_C4        3000 non-null   float64\n",
            " 43  MeanF_Delta_C4          3000 non-null   float64\n",
            " 44  Spectral Edge_Delta_C4  3000 non-null   float64\n",
            " 45  PeakF_Delta_C4          3000 non-null   float64\n",
            " 46  MeanP_Gamma_C4          3000 non-null   float64\n",
            " 47  MedianF_Gamma_C4        3000 non-null   float64\n",
            " 48  MeanF_Gamma_C4          3000 non-null   float64\n",
            " 49  Spectral Edge_Gamma_C4  3000 non-null   float64\n",
            " 50  PeakF_Gamma_C4          3000 non-null   float64\n",
            " 51  MeanP_Alpha_O2          3000 non-null   float64\n",
            " 52  MedianF_Alpha_O2        3000 non-null   float64\n",
            " 53  MeanF_Alpha_O2          3000 non-null   float64\n",
            " 54  Spectral Edge_Alpha_O2  3000 non-null   float64\n",
            " 55  PeakF_Alpha_O2          3000 non-null   float64\n",
            " 56  MeanP_Beta_O2           3000 non-null   float64\n",
            " 57  MedianF_Beta_O2         3000 non-null   float64\n",
            " 58  MeanF_Beta_O2           3000 non-null   float64\n",
            " 59  Spectral Edge_Beta_O2   3000 non-null   float64\n",
            " 60  PeakF_Beta_O2           3000 non-null   float64\n",
            " 61  MeanP_Theta_O2          3000 non-null   float64\n",
            " 62  MedianF_Theta_O2        3000 non-null   float64\n",
            " 63  MeanF_Theta_O2          3000 non-null   float64\n",
            " 64  Spectral Edge_Theta_O2  3000 non-null   float64\n",
            " 65  PeakF_Theta_O2          3000 non-null   float64\n",
            " 66  MeanP_Delta_O2          3000 non-null   float64\n",
            " 67  MedianF_Delta_O2        3000 non-null   float64\n",
            " 68  MeanF_Delta_O2          3000 non-null   float64\n",
            " 69  Spectral Edge_Delta_O2  3000 non-null   float64\n",
            " 70  PeakF_Delta_O2          3000 non-null   float64\n",
            " 71  MeanP_Gamma_O2          3000 non-null   float64\n",
            " 72  MedianF_Gamma_O2        3000 non-null   float64\n",
            " 73  MeanF_Gamma_O2          3000 non-null   float64\n",
            " 74  Spectral Edge_Gamma_O2  3000 non-null   float64\n",
            " 75  PeakF_Gamma_O2          3000 non-null   float64\n",
            "dtypes: float64(75), int64(1)\n",
            "memory usage: 1.7 MB\n"
          ]
        }
      ]
    },
    {
      "cell_type": "markdown",
      "source": [
        "#target Column Name"
      ],
      "metadata": {
        "id": "2C5cQfsY-9dq"
      }
    },
    {
      "cell_type": "code",
      "source": [
        "target"
      ],
      "metadata": {
        "colab": {
          "base_uri": "https://localhost:8080/",
          "height": 36
        },
        "id": "rHy3xfbT_CDm",
        "outputId": "b62314e6-c21f-42fa-d3ff-5552a016301f"
      },
      "execution_count": 14,
      "outputs": [
        {
          "output_type": "execute_result",
          "data": {
            "text/plain": [
              "'Sleep Stage'"
            ],
            "application/vnd.google.colaboratory.intrinsic+json": {
              "type": "string"
            }
          },
          "metadata": {},
          "execution_count": 14
        }
      ]
    },
    {
      "cell_type": "markdown",
      "source": [
        "dividing x(featuredata) & y(targetColumnData)"
      ],
      "metadata": {
        "id": "Sf0ts69H9PV5"
      }
    },
    {
      "cell_type": "code",
      "source": [
        "X = df.loc[:,df.columns != target]\n",
        "y = df[target]"
      ],
      "metadata": {
        "id": "jHL_k-uX-iWV"
      },
      "execution_count": 15,
      "outputs": []
    },
    {
      "cell_type": "markdown",
      "source": [
        "#train,test,split"
      ],
      "metadata": {
        "id": "xICD2oMiAw8h"
      }
    },
    {
      "cell_type": "code",
      "source": [
        "from sklearn.model_selection import train_test_split\n",
        "X_train, X_test, y_train, y_test = train_test_split(X, y, test_size=0.20, random_state=0)#if test size =0.x then the train size will be (1-0.x) "
      ],
      "metadata": {
        "id": "asXGdhKEAOUf"
      },
      "execution_count": 16,
      "outputs": []
    },
    {
      "cell_type": "code",
      "source": [
        "y_train.value_counts()"
      ],
      "metadata": {
        "colab": {
          "base_uri": "https://localhost:8080/"
        },
        "id": "rO1EF1SSQsfV",
        "outputId": "7690bd68-cf70-497f-e84d-3f35ffea1ac6"
      },
      "execution_count": 17,
      "outputs": [
        {
          "output_type": "execute_result",
          "data": {
            "text/plain": [
              "0    1447\n",
              "2     494\n",
              "1     459\n",
              "Name: Sleep Stage, dtype: int64"
            ]
          },
          "metadata": {},
          "execution_count": 17
        }
      ]
    },
    {
      "cell_type": "code",
      "source": [
        "y_test.shape"
      ],
      "metadata": {
        "colab": {
          "base_uri": "https://localhost:8080/"
        },
        "id": "bKzuvoOHSvU8",
        "outputId": "ae82b2d9-bbab-4552-abd7-8c1d90a0d1a1"
      },
      "execution_count": 18,
      "outputs": [
        {
          "output_type": "execute_result",
          "data": {
            "text/plain": [
              "(600,)"
            ]
          },
          "metadata": {},
          "execution_count": 18
        }
      ]
    },
    {
      "cell_type": "markdown",
      "source": [
        "#Training Phase"
      ],
      "metadata": {
        "id": "kQVpsR6WEQi8"
      }
    },
    {
      "cell_type": "markdown",
      "source": [
        "Importing library of algorithoms & fit the model(X_train, y_train)"
      ],
      "metadata": {
        "id": "4i-HRM1wB-8R"
      }
    },
    {
      "cell_type": "markdown",
      "source": [
        "##RandomForestClassifier"
      ],
      "metadata": {
        "id": "QN6yo5LrHItc"
      }
    },
    {
      "cell_type": "code",
      "source": [
        "%%time\n",
        "from sklearn.ensemble import RandomForestClassifier\n",
        "rf = RandomForestClassifier()\n",
        "rf.fit(X_train, y_train)\n",
        "y_pred = rf.predict(X_test)"
      ],
      "metadata": {
        "colab": {
          "base_uri": "https://localhost:8080/"
        },
        "id": "4L9Pj7ajB-ix",
        "outputId": "38e42785-9a31-49d7-ecc0-62a8aee4876b"
      },
      "execution_count": 19,
      "outputs": [
        {
          "output_type": "stream",
          "name": "stdout",
          "text": [
            "CPU times: user 1.35 s, sys: 26.2 ms, total: 1.38 s\n",
            "Wall time: 1.56 s\n"
          ]
        }
      ]
    },
    {
      "cell_type": "markdown",
      "source": [
        "###Testing Phase"
      ],
      "metadata": {
        "id": "8992razoEVip"
      }
    },
    {
      "cell_type": "markdown",
      "source": [
        "findout the predicted value through the trained model"
      ],
      "metadata": {
        "id": "YXyG-sN8EnhB"
      }
    },
    {
      "cell_type": "code",
      "source": [
        "from sklearn.metrics import classification_report, confusion_matrix, accuracy_score\n",
        "print(confusion_matrix(y_test, y_pred))\n",
        "print(classification_report(y_test,y_pred))\n",
        "print(\"Accurecy: \",accuracy_score(y_test, y_pred))"
      ],
      "metadata": {
        "colab": {
          "base_uri": "https://localhost:8080/"
        },
        "id": "v0o-hQSCC97f",
        "outputId": "ddf61ae8-5500-457b-caa2-39f7d2ecaee2"
      },
      "execution_count": 20,
      "outputs": [
        {
          "output_type": "stream",
          "name": "stdout",
          "text": [
            "[[340   4   7]\n",
            " [  9 104   1]\n",
            " [ 12   1 122]]\n",
            "              precision    recall  f1-score   support\n",
            "\n",
            "           0       0.94      0.97      0.96       351\n",
            "           1       0.95      0.91      0.93       114\n",
            "           2       0.94      0.90      0.92       135\n",
            "\n",
            "    accuracy                           0.94       600\n",
            "   macro avg       0.94      0.93      0.94       600\n",
            "weighted avg       0.94      0.94      0.94       600\n",
            "\n",
            "Accurecy:  0.9433333333333334\n"
          ]
        }
      ]
    },
    {
      "cell_type": "code",
      "source": [
        "attributes={\n",
        "   \"Fig Height\": 3,\n",
        "   \"Fig weidth\": 3, \n",
        "    \n",
        "  \"Y Axis Fontsize\" : 6,\n",
        "  \"X Axis Fontsize\" : 6,\n",
        "\n",
        "  \"Y Label Fontsize\" : 6,\n",
        "  \"X Label Fontsize\" : 6,\n",
        "\n",
        "  \"Confusion Matrix Inner Fontsize\": 8\n",
        "\n",
        "\n",
        "}\n",
        "\n",
        "Conf_Mat(X_test,y_test,attributes,rf,labels)\n",
        "     "
      ],
      "metadata": {
        "colab": {
          "base_uri": "https://localhost:8080/",
          "height": 393
        },
        "id": "UCuusnUbMcrS",
        "outputId": "e1da7ff4-033f-4799-d699-21e5a4ff5dc6"
      },
      "execution_count": 21,
      "outputs": [
        {
          "output_type": "stream",
          "name": "stderr",
          "text": [
            "/usr/local/lib/python3.9/dist-packages/sklearn/base.py:439: UserWarning: X does not have valid feature names, but RandomForestClassifier was fitted with feature names\n",
            "  warnings.warn(\n"
          ]
        },
        {
          "output_type": "display_data",
          "data": {
            "text/plain": [
              "<Figure size 300x300 with 1 Axes>"
            ],
            "image/png": "[encoded data removed]"
          },
          "metadata": {}
        },
        {
          "output_type": "stream",
          "name": "stdout",
          "text": [
            "--------------------\n",
            "--------------------\n"
          ]
        }
      ]
    },
    {
      "cell_type": "markdown",
      "source": [
        "##AdaBoostClassifier Algorithom"
      ],
      "metadata": {
        "id": "lXZ3Djv1H3Se"
      }
    },
    {
      "cell_type": "code",
      "source": [
        "from sklearn.ensemble import AdaBoostClassifier\n",
        "ada = AdaBoostClassifier()\n",
        "ada.fit(X_train, y_train)\n",
        "y_pred = ada.predict(X_test)"
      ],
      "metadata": {
        "id": "WYZn1wW4ICBO"
      },
      "execution_count": 22,
      "outputs": []
    },
    {
      "cell_type": "code",
      "source": [
        "from sklearn.metrics import classification_report, confusion_matrix, accuracy_score\n",
        "print(confusion_matrix(y_test, y_pred))\n",
        "print(classification_report(y_test,y_pred))\n",
        "print(\"Accurecy: \",accuracy_score(y_test, y_pred))"
      ],
      "metadata": {
        "colab": {
          "base_uri": "https://localhost:8080/"
        },
        "id": "cmQ9sls1Ijit",
        "outputId": "19927f8b-c30c-4004-9f2a-081bb6fc9abf"
      },
      "execution_count": 23,
      "outputs": [
        {
          "output_type": "stream",
          "name": "stdout",
          "text": [
            "[[293  53   5]\n",
            " [ 28  85   1]\n",
            " [ 22   0 113]]\n",
            "              precision    recall  f1-score   support\n",
            "\n",
            "           0       0.85      0.83      0.84       351\n",
            "           1       0.62      0.75      0.67       114\n",
            "           2       0.95      0.84      0.89       135\n",
            "\n",
            "    accuracy                           0.82       600\n",
            "   macro avg       0.81      0.81      0.80       600\n",
            "weighted avg       0.83      0.82      0.82       600\n",
            "\n",
            "Accurecy:  0.8183333333333334\n"
          ]
        }
      ]
    },
    {
      "cell_type": "code",
      "source": [
        "attributes={\n",
        "   \"Fig Height\": 3,\n",
        "   \"Fig weidth\": 3, \n",
        "    \n",
        "  \"Y Axis Fontsize\" : 6,\n",
        "  \"X Axis Fontsize\" : 6,\n",
        "\n",
        "  \"Y Label Fontsize\" : 6,\n",
        "  \"X Label Fontsize\" : 6,\n",
        "\n",
        "  \"Confusion Matrix Inner Fontsize\": 8\n",
        "\n",
        "\n",
        "}\n",
        "\n",
        "Conf_Mat(X_test,y_test,attributes,ada,labels)\n",
        "     "
      ],
      "metadata": {
        "colab": {
          "base_uri": "https://localhost:8080/",
          "height": 393
        },
        "id": "gL1cEkK7Oj2N",
        "outputId": "71bb4038-8e49-4efb-b792-9f38b4d19b42"
      },
      "execution_count": 24,
      "outputs": [
        {
          "output_type": "stream",
          "name": "stderr",
          "text": [
            "/usr/local/lib/python3.9/dist-packages/sklearn/base.py:439: UserWarning: X does not have valid feature names, but AdaBoostClassifier was fitted with feature names\n",
            "  warnings.warn(\n"
          ]
        },
        {
          "output_type": "display_data",
          "data": {
            "text/plain": [
              "<Figure size 300x300 with 1 Axes>"
            ],
            "image/png": "[encoded data removed]"
          },
          "metadata": {}
        },
        {
          "output_type": "stream",
          "name": "stdout",
          "text": [
            "--------------------\n",
            "--------------------\n"
          ]
        }
      ]
    },
    {
      "cell_type": "markdown",
      "source": [
        "##GradientBoostingClassifier Algorithom"
      ],
      "metadata": {
        "id": "I6u45LsjI8c6"
      }
    },
    {
      "cell_type": "code",
      "source": [
        "from sklearn.ensemble import GradientBoostingClassifier\n",
        "grd = GradientBoostingClassifier()\n",
        "grd.fit(X_train, y_train)\n",
        "y_pred = grd.predict(X_test)"
      ],
      "metadata": {
        "id": "iZoh6c2oKQL_"
      },
      "execution_count": 25,
      "outputs": []
    },
    {
      "cell_type": "code",
      "source": [
        "from sklearn.metrics import classification_report, confusion_matrix, accuracy_score\n",
        "print(confusion_matrix(y_test, y_pred))\n",
        "print(classification_report(y_test,y_pred))\n",
        "print(\"Accurecy: \",accuracy_score(y_test, y_pred))"
      ],
      "metadata": {
        "colab": {
          "base_uri": "https://localhost:8080/"
        },
        "id": "ugpIQwM_K-XH",
        "outputId": "821e42f3-6199-42e6-b9cd-db678f20d40c"
      },
      "execution_count": 26,
      "outputs": [
        {
          "output_type": "stream",
          "name": "stdout",
          "text": [
            "[[336   8   7]\n",
            " [ 10 103   1]\n",
            " [ 10   2 123]]\n",
            "              precision    recall  f1-score   support\n",
            "\n",
            "           0       0.94      0.96      0.95       351\n",
            "           1       0.91      0.90      0.91       114\n",
            "           2       0.94      0.91      0.92       135\n",
            "\n",
            "    accuracy                           0.94       600\n",
            "   macro avg       0.93      0.92      0.93       600\n",
            "weighted avg       0.94      0.94      0.94       600\n",
            "\n",
            "Accurecy:  0.9366666666666666\n"
          ]
        }
      ]
    },
    {
      "cell_type": "code",
      "source": [
        "attributes={\n",
        "   \"Fig Height\": 3,\n",
        "   \"Fig weidth\": 3, \n",
        "    \n",
        "  \"Y Axis Fontsize\" : 6,\n",
        "  \"X Axis Fontsize\" : 6,\n",
        "\n",
        "  \"Y Label Fontsize\" : 6,\n",
        "  \"X Label Fontsize\" : 6,\n",
        "\n",
        "  \"Confusion Matrix Inner Fontsize\": 8\n",
        "\n",
        "\n",
        "}\n",
        "\n",
        "Conf_Mat(X_test,y_test,attributes,grd,labels)\n",
        "     "
      ],
      "metadata": {
        "colab": {
          "base_uri": "https://localhost:8080/",
          "height": 393
        },
        "id": "ovLPKZ5WOq0k",
        "outputId": "23c39feb-4725-4e6e-f81b-f1b1dd834943"
      },
      "execution_count": 27,
      "outputs": [
        {
          "output_type": "stream",
          "name": "stderr",
          "text": [
            "/usr/local/lib/python3.9/dist-packages/sklearn/base.py:439: UserWarning: X does not have valid feature names, but GradientBoostingClassifier was fitted with feature names\n",
            "  warnings.warn(\n"
          ]
        },
        {
          "output_type": "display_data",
          "data": {
            "text/plain": [
              "<Figure size 300x300 with 1 Axes>"
            ],
            "image/png": "[encoded data removed]"
          },
          "metadata": {}
        },
        {
          "output_type": "stream",
          "name": "stdout",
          "text": [
            "--------------------\n",
            "--------------------\n"
          ]
        }
      ]
    },
    {
      "cell_type": "code",
      "source": [],
      "metadata": {
        "id": "2n5FVYXiL28b"
      },
      "execution_count": 27,
      "outputs": []
    }
  ]
}