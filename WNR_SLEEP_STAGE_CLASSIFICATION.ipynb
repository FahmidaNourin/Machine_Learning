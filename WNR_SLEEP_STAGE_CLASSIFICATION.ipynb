{
  "nbformat": 4,
  "nbformat_minor": 0,
  "metadata": {
    "colab": {
      "provenance": [],
      "authorship_tag": "ABX9TyP78Xv3AbLsB0gTDBhxr/kH",
      "include_colab_link": true
    },
    "kernelspec": {
      "name": "python3",
      "display_name": "Python 3"
    },
    "language_info": {
      "name": "python"
    }
  },
  "cells": [
    {
      "cell_type": "markdown",
      "metadata": {
        "id": "view-in-github",
        "colab_type": "text"
      },
      "source": [
        "<a href=\"https://colab.research.google.com/github/FahmidaNourin/Machine_Learning/blob/main/WNR_SLEEP_STAGE_CLASSIFICATION.ipynb\" target=\"_parent\"><img src=\"https://colab.research.google.com/assets/colab-badge.svg\" alt=\"Open In Colab\"/></a>"
      ]
    },
    {
      "cell_type": "code",
      "execution_count": 4,
      "metadata": {
        "id": "8hS4ITx7LH7L"
      },
      "outputs": [],
      "source": [
        "import numpy as np\n",
        "import pandas as pd"
      ]
    },
    {
      "cell_type": "code",
      "source": [
        "df=pd.read_csv(\"https://raw.githubusercontent.com/RafsanJany-44/Machine-School/main/datasets/EEG_HMC_Wake_NREM_REM_3000.csv\")"
      ],
      "metadata": {
        "id": "DQHrve8aNnh_"
      },
      "execution_count": 5,
      "outputs": []
    },
    {
      "cell_type": "code",
      "source": [
        "df.head()"
      ],
      "metadata": {
        "colab": {
          "base_uri": "https://localhost:8080/",
          "height": 316
        },
        "id": "wMralwgXN9Iw",
        "outputId": "e23da4b8-b5b6-48bf-ce55-9a51602672fd"
      },
      "execution_count": 6,
      "outputs": [
        {
          "output_type": "execute_result",
          "data": {
            "text/plain": [
              "  Sleep Stage  MeanP_Alpha_F4  MedianF_Alpha_F4  MeanF_Alpha_F4  \\\n",
              "0        Wake         0.00051           8.74146        18.48195   \n",
              "1        Wake         0.00040          10.24000        17.48293   \n",
              "2        Wake         0.00036           9.74049        17.98244   \n",
              "3        Wake         0.00035          10.11512        17.60780   \n",
              "4        Wake         0.00033           9.74049        17.60780   \n",
              "\n",
              "   Spectral Edge_Alpha_F4  PeakF_Alpha_F4  MeanP_Beta_F4  MedianF_Beta_F4  \\\n",
              "0                17.48293         8.24195        0.00071         19.73073   \n",
              "1                16.85854        10.61463        0.00051         17.23317   \n",
              "2                17.48293         8.74146        0.00047         17.60780   \n",
              "3                17.10829         9.61561        0.00047         17.35805   \n",
              "4                17.23317         8.11707        0.00043         17.23317   \n",
              "\n",
              "   MeanF_Beta_F4  Spectral Edge_Beta_F4  ...  MeanP_Delta_O2  \\\n",
              "0       29.84585               33.84195  ...         0.00724   \n",
              "1       26.34927               29.34634  ...         0.00723   \n",
              "2       25.47512               28.22244  ...         0.00230   \n",
              "3       26.47415               28.72195  ...         0.00091   \n",
              "4       25.84976               28.09756  ...         0.00175   \n",
              "\n",
              "   MedianF_Delta_O2  MeanF_Delta_O2  Spectral Edge_Delta_O2  PeakF_Delta_O2  \\\n",
              "0           0.74927         3.87122                 1.99805         0.87415   \n",
              "1           0.49951         3.74634                 1.24878         0.49951   \n",
              "2           0.62439         5.24488                 2.12293         0.62439   \n",
              "3           0.87415         6.61854                 3.12195         0.62439   \n",
              "4           0.49951         5.74439                 2.24780         0.49951   \n",
              "\n",
              "   MeanP_Gamma_O2  MedianF_Gamma_O2  MeanF_Gamma_O2  Spectral Edge_Gamma_O2  \\\n",
              "0        0.000210          35.21561        42.20878                49.95122   \n",
              "1        0.000095          34.34146        43.33268                49.95122   \n",
              "2        0.000074          34.59122        45.95512                49.95122   \n",
              "3        0.000082          32.46829        43.95707                49.95122   \n",
              "4        0.000077          33.59220        44.83122                49.95122   \n",
              "\n",
              "   PeakF_Gamma_O2  \n",
              "0        49.95122  \n",
              "1        49.95122  \n",
              "2        49.95122  \n",
              "3        49.95122  \n",
              "4        49.95122  \n",
              "\n",
              "[5 rows x 76 columns]"
            ],
            "text/html": [
              "\n",
              "  <div id=\"df-31daa82f-1602-4e4c-b5da-118b6f583cbd\">\n",
              "    <div class=\"colab-df-container\">\n",
              "      <div>\n",
              "<style scoped>\n",
              "    .dataframe tbody tr th:only-of-type {\n",
              "        vertical-align: middle;\n",
              "    }\n",
              "\n",
              "    .dataframe tbody tr th {\n",
              "        vertical-align: top;\n",
              "    }\n",
              "\n",
              "    .dataframe thead th {\n",
              "        text-align: right;\n",
              "    }\n",
              "</style>\n",
              "<table border=\"1\" class=\"dataframe\">\n",
              "  <thead>\n",
              "    <tr style=\"text-align: right;\">\n",
              "      <th></th>\n",
              "      <th>Sleep Stage</th>\n",
              "      <th>MeanP_Alpha_F4</th>\n",
              "      <th>MedianF_Alpha_F4</th>\n",
              "      <th>MeanF_Alpha_F4</th>\n",
              "      <th>Spectral Edge_Alpha_F4</th>\n",
              "      <th>PeakF_Alpha_F4</th>\n",
              "      <th>MeanP_Beta_F4</th>\n",
              "      <th>MedianF_Beta_F4</th>\n",
              "      <th>MeanF_Beta_F4</th>\n",
              "      <th>Spectral Edge_Beta_F4</th>\n",
              "      <th>...</th>\n",
              "      <th>MeanP_Delta_O2</th>\n",
              "      <th>MedianF_Delta_O2</th>\n",
              "      <th>MeanF_Delta_O2</th>\n",
              "      <th>Spectral Edge_Delta_O2</th>\n",
              "      <th>PeakF_Delta_O2</th>\n",
              "      <th>MeanP_Gamma_O2</th>\n",
              "      <th>MedianF_Gamma_O2</th>\n",
              "      <th>MeanF_Gamma_O2</th>\n",
              "      <th>Spectral Edge_Gamma_O2</th>\n",
              "      <th>PeakF_Gamma_O2</th>\n",
              "    </tr>\n",
              "  </thead>\n",
              "  <tbody>\n",
              "    <tr>\n",
              "      <th>0</th>\n",
              "      <td>Wake</td>\n",
              "      <td>0.00051</td>\n",
              "      <td>8.74146</td>\n",
              "      <td>18.48195</td>\n",
              "      <td>17.48293</td>\n",
              "      <td>8.24195</td>\n",
              "      <td>0.00071</td>\n",
              "      <td>19.73073</td>\n",
              "      <td>29.84585</td>\n",
              "      <td>33.84195</td>\n",
              "      <td>...</td>\n",
              "      <td>0.00724</td>\n",
              "      <td>0.74927</td>\n",
              "      <td>3.87122</td>\n",
              "      <td>1.99805</td>\n",
              "      <td>0.87415</td>\n",
              "      <td>0.000210</td>\n",
              "      <td>35.21561</td>\n",
              "      <td>42.20878</td>\n",
              "      <td>49.95122</td>\n",
              "      <td>49.95122</td>\n",
              "    </tr>\n",
              "    <tr>\n",
              "      <th>1</th>\n",
              "      <td>Wake</td>\n",
              "      <td>0.00040</td>\n",
              "      <td>10.24000</td>\n",
              "      <td>17.48293</td>\n",
              "      <td>16.85854</td>\n",
              "      <td>10.61463</td>\n",
              "      <td>0.00051</td>\n",
              "      <td>17.23317</td>\n",
              "      <td>26.34927</td>\n",
              "      <td>29.34634</td>\n",
              "      <td>...</td>\n",
              "      <td>0.00723</td>\n",
              "      <td>0.49951</td>\n",
              "      <td>3.74634</td>\n",
              "      <td>1.24878</td>\n",
              "      <td>0.49951</td>\n",
              "      <td>0.000095</td>\n",
              "      <td>34.34146</td>\n",
              "      <td>43.33268</td>\n",
              "      <td>49.95122</td>\n",
              "      <td>49.95122</td>\n",
              "    </tr>\n",
              "    <tr>\n",
              "      <th>2</th>\n",
              "      <td>Wake</td>\n",
              "      <td>0.00036</td>\n",
              "      <td>9.74049</td>\n",
              "      <td>17.98244</td>\n",
              "      <td>17.48293</td>\n",
              "      <td>8.74146</td>\n",
              "      <td>0.00047</td>\n",
              "      <td>17.60780</td>\n",
              "      <td>25.47512</td>\n",
              "      <td>28.22244</td>\n",
              "      <td>...</td>\n",
              "      <td>0.00230</td>\n",
              "      <td>0.62439</td>\n",
              "      <td>5.24488</td>\n",
              "      <td>2.12293</td>\n",
              "      <td>0.62439</td>\n",
              "      <td>0.000074</td>\n",
              "      <td>34.59122</td>\n",
              "      <td>45.95512</td>\n",
              "      <td>49.95122</td>\n",
              "      <td>49.95122</td>\n",
              "    </tr>\n",
              "    <tr>\n",
              "      <th>3</th>\n",
              "      <td>Wake</td>\n",
              "      <td>0.00035</td>\n",
              "      <td>10.11512</td>\n",
              "      <td>17.60780</td>\n",
              "      <td>17.10829</td>\n",
              "      <td>9.61561</td>\n",
              "      <td>0.00047</td>\n",
              "      <td>17.35805</td>\n",
              "      <td>26.47415</td>\n",
              "      <td>28.72195</td>\n",
              "      <td>...</td>\n",
              "      <td>0.00091</td>\n",
              "      <td>0.87415</td>\n",
              "      <td>6.61854</td>\n",
              "      <td>3.12195</td>\n",
              "      <td>0.62439</td>\n",
              "      <td>0.000082</td>\n",
              "      <td>32.46829</td>\n",
              "      <td>43.95707</td>\n",
              "      <td>49.95122</td>\n",
              "      <td>49.95122</td>\n",
              "    </tr>\n",
              "    <tr>\n",
              "      <th>4</th>\n",
              "      <td>Wake</td>\n",
              "      <td>0.00033</td>\n",
              "      <td>9.74049</td>\n",
              "      <td>17.60780</td>\n",
              "      <td>17.23317</td>\n",
              "      <td>8.11707</td>\n",
              "      <td>0.00043</td>\n",
              "      <td>17.23317</td>\n",
              "      <td>25.84976</td>\n",
              "      <td>28.09756</td>\n",
              "      <td>...</td>\n",
              "      <td>0.00175</td>\n",
              "      <td>0.49951</td>\n",
              "      <td>5.74439</td>\n",
              "      <td>2.24780</td>\n",
              "      <td>0.49951</td>\n",
              "      <td>0.000077</td>\n",
              "      <td>33.59220</td>\n",
              "      <td>44.83122</td>\n",
              "      <td>49.95122</td>\n",
              "      <td>49.95122</td>\n",
              "    </tr>\n",
              "  </tbody>\n",
              "</table>\n",
              "<p>5 rows × 76 columns</p>\n",
              "</div>\n",
              "      <button class=\"colab-df-convert\" onclick=\"convertToInteractive('df-31daa82f-1602-4e4c-b5da-118b6f583cbd')\"\n",
              "              title=\"Convert this dataframe to an interactive table.\"\n",
              "              style=\"display:none;\">\n",
              "        \n",
              "  <svg xmlns=\"http://www.w3.org/2000/svg\" height=\"24px\"viewBox=\"0 0 24 24\"\n",
              "       width=\"24px\">\n",
              "    <path d=\"M0 0h24v24H0V0z\" fill=\"none\"/>\n",
              "    <path d=\"M18.56 5.44l.94 2.06.94-2.06 2.06-.94-2.06-.94-.94-2.06-.94 2.06-2.06.94zm-11 1L8.5 8.5l.94-2.06 2.06-.94-2.06-.94L8.5 2.5l-.94 2.06-2.06.94zm10 10l.94 2.06.94-2.06 2.06-.94-2.06-.94-.94-2.06-.94 2.06-2.06.94z\"/><path d=\"M17.41 7.96l-1.37-1.37c-.4-.4-.92-.59-1.43-.59-.52 0-1.04.2-1.43.59L10.3 9.45l-7.72 7.72c-.78.78-.78 2.05 0 2.83L4 21.41c.39.39.9.59 1.41.59.51 0 1.02-.2 1.41-.59l7.78-7.78 2.81-2.81c.8-.78.8-2.07 0-2.86zM5.41 20L4 18.59l7.72-7.72 1.47 1.35L5.41 20z\"/>\n",
              "  </svg>\n",
              "      </button>\n",
              "      \n",
              "  <style>\n",
              "    .colab-df-container {\n",
              "      display:flex;\n",
              "      flex-wrap:wrap;\n",
              "      gap: 12px;\n",
              "    }\n",
              "\n",
              "    .colab-df-convert {\n",
              "      background-color: #E8F0FE;\n",
              "      border: none;\n",
              "      border-radius: 50%;\n",
              "      cursor: pointer;\n",
              "      display: none;\n",
              "      fill: #1967D2;\n",
              "      height: 32px;\n",
              "      padding: 0 0 0 0;\n",
              "      width: 32px;\n",
              "    }\n",
              "\n",
              "    .colab-df-convert:hover {\n",
              "      background-color: #E2EBFA;\n",
              "      box-shadow: 0px 1px 2px rgba(60, 64, 67, 0.3), 0px 1px 3px 1px rgba(60, 64, 67, 0.15);\n",
              "      fill: #174EA6;\n",
              "    }\n",
              "\n",
              "    [theme=dark] .colab-df-convert {\n",
              "      background-color: #3B4455;\n",
              "      fill: #D2E3FC;\n",
              "    }\n",
              "\n",
              "    [theme=dark] .colab-df-convert:hover {\n",
              "      background-color: #434B5C;\n",
              "      box-shadow: 0px 1px 3px 1px rgba(0, 0, 0, 0.15);\n",
              "      filter: drop-shadow(0px 1px 2px rgba(0, 0, 0, 0.3));\n",
              "      fill: #FFFFFF;\n",
              "    }\n",
              "  </style>\n",
              "\n",
              "      <script>\n",
              "        const buttonEl =\n",
              "          document.querySelector('#df-31daa82f-1602-4e4c-b5da-118b6f583cbd button.colab-df-convert');\n",
              "        buttonEl.style.display =\n",
              "          google.colab.kernel.accessAllowed ? 'block' : 'none';\n",
              "\n",
              "        async function convertToInteractive(key) {\n",
              "          const element = document.querySelector('#df-31daa82f-1602-4e4c-b5da-118b6f583cbd');\n",
              "          const dataTable =\n",
              "            await google.colab.kernel.invokeFunction('convertToInteractive',\n",
              "                                                     [key], {});\n",
              "          if (!dataTable) return;\n",
              "\n",
              "          const docLinkHtml = 'Like what you see? Visit the ' +\n",
              "            '<a target=\"_blank\" href=https://colab.research.google.com/notebooks/data_table.ipynb>data table notebook</a>'\n",
              "            + ' to learn more about interactive tables.';\n",
              "          element.innerHTML = '';\n",
              "          dataTable['output_type'] = 'display_data';\n",
              "          await google.colab.output.renderOutput(dataTable, element);\n",
              "          const docLink = document.createElement('div');\n",
              "          docLink.innerHTML = docLinkHtml;\n",
              "          element.appendChild(docLink);\n",
              "        }\n",
              "      </script>\n",
              "    </div>\n",
              "  </div>\n",
              "  "
            ]
          },
          "metadata": {},
          "execution_count": 6
        }
      ]
    },
    {
      "cell_type": "code",
      "source": [
        "df.shape"
      ],
      "metadata": {
        "colab": {
          "base_uri": "https://localhost:8080/"
        },
        "id": "iwHv9sr7OC0P",
        "outputId": "9530a171-fbeb-452f-bb5f-464e92eae53e"
      },
      "execution_count": 7,
      "outputs": [
        {
          "output_type": "execute_result",
          "data": {
            "text/plain": [
              "(3000, 76)"
            ]
          },
          "metadata": {},
          "execution_count": 7
        }
      ]
    },
    {
      "cell_type": "code",
      "source": [
        "df.columns"
      ],
      "metadata": {
        "id": "92fBi92yOJZi",
        "outputId": "c172d5f0-858f-43af-943a-6424b4172af6",
        "colab": {
          "base_uri": "https://localhost:8080/"
        }
      },
      "execution_count": 8,
      "outputs": [
        {
          "output_type": "execute_result",
          "data": {
            "text/plain": [
              "Index(['Sleep Stage', 'MeanP_Alpha_F4', 'MedianF_Alpha_F4', 'MeanF_Alpha_F4',\n",
              "       'Spectral Edge_Alpha_F4', 'PeakF_Alpha_F4', 'MeanP_Beta_F4',\n",
              "       'MedianF_Beta_F4', 'MeanF_Beta_F4', 'Spectral Edge_Beta_F4',\n",
              "       'PeakF_Beta_F4', 'MeanP_Theta_F4', 'MedianF_Theta_F4', 'MeanF_Theta_F4',\n",
              "       'Spectral Edge_Theta_F4', 'PeakF_Theta_F4', 'MeanP_Delta_F4',\n",
              "       'MedianF_Delta_F4', 'MeanF_Delta_F4', 'Spectral Edge_Delta_F4',\n",
              "       'PeakF_Delta_F4', 'MeanP_Gamma_F4', 'MedianF_Gamma_F4',\n",
              "       'MeanF_Gamma_F4', 'Spectral Edge_Gamma_F4', 'PeakF_Gamma_F4',\n",
              "       'MeanP_Alpha_C4', 'MedianF_Alpha_C4', 'MeanF_Alpha_C4',\n",
              "       'Spectral Edge_Alpha_C4', 'PeakF_Alpha_C4', 'MeanP_Beta_C4',\n",
              "       'MedianF_Beta_C4', 'MeanF_Beta_C4', 'Spectral Edge_Beta_C4',\n",
              "       'PeakF_Beta_C4', 'MeanP_Theta_C4', 'MedianF_Theta_C4', 'MeanF_Theta_C4',\n",
              "       'Spectral Edge_Theta_C4', 'PeakF_Theta_C4', 'MeanP_Delta_C4',\n",
              "       'MedianF_Delta_C4', 'MeanF_Delta_C4', 'Spectral Edge_Delta_C4',\n",
              "       'PeakF_Delta_C4', 'MeanP_Gamma_C4', 'MedianF_Gamma_C4',\n",
              "       'MeanF_Gamma_C4', 'Spectral Edge_Gamma_C4', 'PeakF_Gamma_C4',\n",
              "       'MeanP_Alpha_O2', 'MedianF_Alpha_O2', 'MeanF_Alpha_O2',\n",
              "       'Spectral Edge_Alpha_O2', 'PeakF_Alpha_O2', 'MeanP_Beta_O2',\n",
              "       'MedianF_Beta_O2', 'MeanF_Beta_O2', 'Spectral Edge_Beta_O2',\n",
              "       'PeakF_Beta_O2', 'MeanP_Theta_O2', 'MedianF_Theta_O2', 'MeanF_Theta_O2',\n",
              "       'Spectral Edge_Theta_O2', 'PeakF_Theta_O2', 'MeanP_Delta_O2',\n",
              "       'MedianF_Delta_O2', 'MeanF_Delta_O2', 'Spectral Edge_Delta_O2',\n",
              "       'PeakF_Delta_O2', 'MeanP_Gamma_O2', 'MedianF_Gamma_O2',\n",
              "       'MeanF_Gamma_O2', 'Spectral Edge_Gamma_O2', 'PeakF_Gamma_O2'],\n",
              "      dtype='object')"
            ]
          },
          "metadata": {},
          "execution_count": 8
        }
      ]
    },
    {
      "cell_type": "code",
      "source": [
        "df.info()"
      ],
      "metadata": {
        "colab": {
          "base_uri": "https://localhost:8080/"
        },
        "id": "tuxmEn0pt61Q",
        "outputId": "9d268b5e-5c55-4d0e-99f9-9e0a9faaed86"
      },
      "execution_count": 9,
      "outputs": [
        {
          "output_type": "stream",
          "name": "stdout",
          "text": [
            "<class 'pandas.core.frame.DataFrame'>\n",
            "RangeIndex: 3000 entries, 0 to 2999\n",
            "Data columns (total 76 columns):\n",
            " #   Column                  Non-Null Count  Dtype  \n",
            "---  ------                  --------------  -----  \n",
            " 0   Sleep Stage             3000 non-null   object \n",
            " 1   MeanP_Alpha_F4          3000 non-null   float64\n",
            " 2   MedianF_Alpha_F4        3000 non-null   float64\n",
            " 3   MeanF_Alpha_F4          3000 non-null   float64\n",
            " 4   Spectral Edge_Alpha_F4  3000 non-null   float64\n",
            " 5   PeakF_Alpha_F4          3000 non-null   float64\n",
            " 6   MeanP_Beta_F4           3000 non-null   float64\n",
            " 7   MedianF_Beta_F4         3000 non-null   float64\n",
            " 8   MeanF_Beta_F4           3000 non-null   float64\n",
            " 9   Spectral Edge_Beta_F4   3000 non-null   float64\n",
            " 10  PeakF_Beta_F4           3000 non-null   float64\n",
            " 11  MeanP_Theta_F4          3000 non-null   float64\n",
            " 12  MedianF_Theta_F4        3000 non-null   float64\n",
            " 13  MeanF_Theta_F4          3000 non-null   float64\n",
            " 14  Spectral Edge_Theta_F4  3000 non-null   float64\n",
            " 15  PeakF_Theta_F4          3000 non-null   float64\n",
            " 16  MeanP_Delta_F4          3000 non-null   float64\n",
            " 17  MedianF_Delta_F4        3000 non-null   float64\n",
            " 18  MeanF_Delta_F4          3000 non-null   float64\n",
            " 19  Spectral Edge_Delta_F4  3000 non-null   float64\n",
            " 20  PeakF_Delta_F4          3000 non-null   float64\n",
            " 21  MeanP_Gamma_F4          3000 non-null   float64\n",
            " 22  MedianF_Gamma_F4        3000 non-null   float64\n",
            " 23  MeanF_Gamma_F4          3000 non-null   float64\n",
            " 24  Spectral Edge_Gamma_F4  3000 non-null   float64\n",
            " 25  PeakF_Gamma_F4          3000 non-null   float64\n",
            " 26  MeanP_Alpha_C4          3000 non-null   float64\n",
            " 27  MedianF_Alpha_C4        3000 non-null   float64\n",
            " 28  MeanF_Alpha_C4          3000 non-null   float64\n",
            " 29  Spectral Edge_Alpha_C4  3000 non-null   float64\n",
            " 30  PeakF_Alpha_C4          3000 non-null   float64\n",
            " 31  MeanP_Beta_C4           3000 non-null   float64\n",
            " 32  MedianF_Beta_C4         3000 non-null   float64\n",
            " 33  MeanF_Beta_C4           3000 non-null   float64\n",
            " 34  Spectral Edge_Beta_C4   3000 non-null   float64\n",
            " 35  PeakF_Beta_C4           3000 non-null   float64\n",
            " 36  MeanP_Theta_C4          3000 non-null   float64\n",
            " 37  MedianF_Theta_C4        3000 non-null   float64\n",
            " 38  MeanF_Theta_C4          3000 non-null   float64\n",
            " 39  Spectral Edge_Theta_C4  3000 non-null   float64\n",
            " 40  PeakF_Theta_C4          3000 non-null   float64\n",
            " 41  MeanP_Delta_C4          3000 non-null   float64\n",
            " 42  MedianF_Delta_C4        3000 non-null   float64\n",
            " 43  MeanF_Delta_C4          3000 non-null   float64\n",
            " 44  Spectral Edge_Delta_C4  3000 non-null   float64\n",
            " 45  PeakF_Delta_C4          3000 non-null   float64\n",
            " 46  MeanP_Gamma_C4          3000 non-null   float64\n",
            " 47  MedianF_Gamma_C4        3000 non-null   float64\n",
            " 48  MeanF_Gamma_C4          3000 non-null   float64\n",
            " 49  Spectral Edge_Gamma_C4  3000 non-null   float64\n",
            " 50  PeakF_Gamma_C4          3000 non-null   float64\n",
            " 51  MeanP_Alpha_O2          3000 non-null   float64\n",
            " 52  MedianF_Alpha_O2        3000 non-null   float64\n",
            " 53  MeanF_Alpha_O2          3000 non-null   float64\n",
            " 54  Spectral Edge_Alpha_O2  3000 non-null   float64\n",
            " 55  PeakF_Alpha_O2          3000 non-null   float64\n",
            " 56  MeanP_Beta_O2           3000 non-null   float64\n",
            " 57  MedianF_Beta_O2         3000 non-null   float64\n",
            " 58  MeanF_Beta_O2           3000 non-null   float64\n",
            " 59  Spectral Edge_Beta_O2   3000 non-null   float64\n",
            " 60  PeakF_Beta_O2           3000 non-null   float64\n",
            " 61  MeanP_Theta_O2          3000 non-null   float64\n",
            " 62  MedianF_Theta_O2        3000 non-null   float64\n",
            " 63  MeanF_Theta_O2          3000 non-null   float64\n",
            " 64  Spectral Edge_Theta_O2  3000 non-null   float64\n",
            " 65  PeakF_Theta_O2          3000 non-null   float64\n",
            " 66  MeanP_Delta_O2          3000 non-null   float64\n",
            " 67  MedianF_Delta_O2        3000 non-null   float64\n",
            " 68  MeanF_Delta_O2          3000 non-null   float64\n",
            " 69  Spectral Edge_Delta_O2  3000 non-null   float64\n",
            " 70  PeakF_Delta_O2          3000 non-null   float64\n",
            " 71  MeanP_Gamma_O2          3000 non-null   float64\n",
            " 72  MedianF_Gamma_O2        3000 non-null   float64\n",
            " 73  MeanF_Gamma_O2          3000 non-null   float64\n",
            " 74  Spectral Edge_Gamma_O2  3000 non-null   float64\n",
            " 75  PeakF_Gamma_O2          3000 non-null   float64\n",
            "dtypes: float64(75), object(1)\n",
            "memory usage: 1.7+ MB\n"
          ]
        }
      ]
    },
    {
      "cell_type": "code",
      "source": [
        "df[\"Sleep Stage\"].value_counts()"
      ],
      "metadata": {
        "colab": {
          "base_uri": "https://localhost:8080/"
        },
        "id": "vB4E0jIRylAd",
        "outputId": "2744991e-9fc6-402b-d2f1-70c6cded5fe0"
      },
      "execution_count": 10,
      "outputs": [
        {
          "output_type": "execute_result",
          "data": {
            "text/plain": [
              "NREM    1798\n",
              "Wake     629\n",
              "REM      573\n",
              "Name: Sleep Stage, dtype: int64"
            ]
          },
          "metadata": {},
          "execution_count": 10
        }
      ]
    },
    {
      "cell_type": "code",
      "source": [
        "from sklearn.preprocessing import LabelEncoder\n",
        "encd = LabelEncoder()"
      ],
      "metadata": {
        "id": "fyoRoEC2y9YN"
      },
      "execution_count": 11,
      "outputs": []
    },
    {
      "cell_type": "code",
      "source": [
        "df[\"Sleep Stage\"] = encd.fit_transform(df[\"Sleep Stage\"])"
      ],
      "metadata": {
        "id": "4LWtJQR6zJBh"
      },
      "execution_count": 12,
      "outputs": []
    },
    {
      "cell_type": "code",
      "source": [
        "df[\"Sleep Stage\"].value_counts()"
      ],
      "metadata": {
        "colab": {
          "base_uri": "https://localhost:8080/"
        },
        "id": "AT7dYWsPzXUR",
        "outputId": "f3c58f72-627b-4ae4-9500-08224eb79e36"
      },
      "execution_count": 13,
      "outputs": [
        {
          "output_type": "execute_result",
          "data": {
            "text/plain": [
              "0    1798\n",
              "2     629\n",
              "1     573\n",
              "Name: Sleep Stage, dtype: int64"
            ]
          },
          "metadata": {},
          "execution_count": 13
        }
      ]
    },
    {
      "cell_type": "code",
      "source": [
        "df.info()"
      ],
      "metadata": {
        "colab": {
          "base_uri": "https://localhost:8080/"
        },
        "id": "BEY9Q5vD0XFu",
        "outputId": "65a49594-60a6-4528-a995-627fc088e4e4"
      },
      "execution_count": 14,
      "outputs": [
        {
          "output_type": "stream",
          "name": "stdout",
          "text": [
            "<class 'pandas.core.frame.DataFrame'>\n",
            "RangeIndex: 3000 entries, 0 to 2999\n",
            "Data columns (total 76 columns):\n",
            " #   Column                  Non-Null Count  Dtype  \n",
            "---  ------                  --------------  -----  \n",
            " 0   Sleep Stage             3000 non-null   int64  \n",
            " 1   MeanP_Alpha_F4          3000 non-null   float64\n",
            " 2   MedianF_Alpha_F4        3000 non-null   float64\n",
            " 3   MeanF_Alpha_F4          3000 non-null   float64\n",
            " 4   Spectral Edge_Alpha_F4  3000 non-null   float64\n",
            " 5   PeakF_Alpha_F4          3000 non-null   float64\n",
            " 6   MeanP_Beta_F4           3000 non-null   float64\n",
            " 7   MedianF_Beta_F4         3000 non-null   float64\n",
            " 8   MeanF_Beta_F4           3000 non-null   float64\n",
            " 9   Spectral Edge_Beta_F4   3000 non-null   float64\n",
            " 10  PeakF_Beta_F4           3000 non-null   float64\n",
            " 11  MeanP_Theta_F4          3000 non-null   float64\n",
            " 12  MedianF_Theta_F4        3000 non-null   float64\n",
            " 13  MeanF_Theta_F4          3000 non-null   float64\n",
            " 14  Spectral Edge_Theta_F4  3000 non-null   float64\n",
            " 15  PeakF_Theta_F4          3000 non-null   float64\n",
            " 16  MeanP_Delta_F4          3000 non-null   float64\n",
            " 17  MedianF_Delta_F4        3000 non-null   float64\n",
            " 18  MeanF_Delta_F4          3000 non-null   float64\n",
            " 19  Spectral Edge_Delta_F4  3000 non-null   float64\n",
            " 20  PeakF_Delta_F4          3000 non-null   float64\n",
            " 21  MeanP_Gamma_F4          3000 non-null   float64\n",
            " 22  MedianF_Gamma_F4        3000 non-null   float64\n",
            " 23  MeanF_Gamma_F4          3000 non-null   float64\n",
            " 24  Spectral Edge_Gamma_F4  3000 non-null   float64\n",
            " 25  PeakF_Gamma_F4          3000 non-null   float64\n",
            " 26  MeanP_Alpha_C4          3000 non-null   float64\n",
            " 27  MedianF_Alpha_C4        3000 non-null   float64\n",
            " 28  MeanF_Alpha_C4          3000 non-null   float64\n",
            " 29  Spectral Edge_Alpha_C4  3000 non-null   float64\n",
            " 30  PeakF_Alpha_C4          3000 non-null   float64\n",
            " 31  MeanP_Beta_C4           3000 non-null   float64\n",
            " 32  MedianF_Beta_C4         3000 non-null   float64\n",
            " 33  MeanF_Beta_C4           3000 non-null   float64\n",
            " 34  Spectral Edge_Beta_C4   3000 non-null   float64\n",
            " 35  PeakF_Beta_C4           3000 non-null   float64\n",
            " 36  MeanP_Theta_C4          3000 non-null   float64\n",
            " 37  MedianF_Theta_C4        3000 non-null   float64\n",
            " 38  MeanF_Theta_C4          3000 non-null   float64\n",
            " 39  Spectral Edge_Theta_C4  3000 non-null   float64\n",
            " 40  PeakF_Theta_C4          3000 non-null   float64\n",
            " 41  MeanP_Delta_C4          3000 non-null   float64\n",
            " 42  MedianF_Delta_C4        3000 non-null   float64\n",
            " 43  MeanF_Delta_C4          3000 non-null   float64\n",
            " 44  Spectral Edge_Delta_C4  3000 non-null   float64\n",
            " 45  PeakF_Delta_C4          3000 non-null   float64\n",
            " 46  MeanP_Gamma_C4          3000 non-null   float64\n",
            " 47  MedianF_Gamma_C4        3000 non-null   float64\n",
            " 48  MeanF_Gamma_C4          3000 non-null   float64\n",
            " 49  Spectral Edge_Gamma_C4  3000 non-null   float64\n",
            " 50  PeakF_Gamma_C4          3000 non-null   float64\n",
            " 51  MeanP_Alpha_O2          3000 non-null   float64\n",
            " 52  MedianF_Alpha_O2        3000 non-null   float64\n",
            " 53  MeanF_Alpha_O2          3000 non-null   float64\n",
            " 54  Spectral Edge_Alpha_O2  3000 non-null   float64\n",
            " 55  PeakF_Alpha_O2          3000 non-null   float64\n",
            " 56  MeanP_Beta_O2           3000 non-null   float64\n",
            " 57  MedianF_Beta_O2         3000 non-null   float64\n",
            " 58  MeanF_Beta_O2           3000 non-null   float64\n",
            " 59  Spectral Edge_Beta_O2   3000 non-null   float64\n",
            " 60  PeakF_Beta_O2           3000 non-null   float64\n",
            " 61  MeanP_Theta_O2          3000 non-null   float64\n",
            " 62  MedianF_Theta_O2        3000 non-null   float64\n",
            " 63  MeanF_Theta_O2          3000 non-null   float64\n",
            " 64  Spectral Edge_Theta_O2  3000 non-null   float64\n",
            " 65  PeakF_Theta_O2          3000 non-null   float64\n",
            " 66  MeanP_Delta_O2          3000 non-null   float64\n",
            " 67  MedianF_Delta_O2        3000 non-null   float64\n",
            " 68  MeanF_Delta_O2          3000 non-null   float64\n",
            " 69  Spectral Edge_Delta_O2  3000 non-null   float64\n",
            " 70  PeakF_Delta_O2          3000 non-null   float64\n",
            " 71  MeanP_Gamma_O2          3000 non-null   float64\n",
            " 72  MedianF_Gamma_O2        3000 non-null   float64\n",
            " 73  MeanF_Gamma_O2          3000 non-null   float64\n",
            " 74  Spectral Edge_Gamma_O2  3000 non-null   float64\n",
            " 75  PeakF_Gamma_O2          3000 non-null   float64\n",
            "dtypes: float64(75), int64(1)\n",
            "memory usage: 1.7 MB\n"
          ]
        }
      ]
    }
  ]
}